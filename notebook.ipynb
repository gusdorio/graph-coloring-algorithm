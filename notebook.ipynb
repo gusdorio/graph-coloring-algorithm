{
 "cells": [
  {
   "cell_type": "markdown",
   "metadata": {
    "id": "U3pn_6kT3fTO"
   },
   "source": [
    "#### **Importando bibliotecas**"
   ]
  },
  {
   "cell_type": "code",
   "execution_count": 1,
   "metadata": {
    "id": "oRGjPacf3jIt"
   },
   "outputs": [],
   "source": [
    "import networkx as nx\n",
    "import matplotlib.pyplot as plt\n",
    "import numpy as np\n",
    "import random as rd\n",
    "from algorithm import Clicks"
   ]
  },
  {
   "cell_type": "markdown",
   "metadata": {
    "id": "o0cUP-ga18D9"
   },
   "source": [
    "### **Criando o grafo aleatório e a lista de cores**"
   ]
  },
  {
   "cell_type": "code",
   "execution_count": 2,
   "metadata": {
    "colab": {
     "base_uri": "https://localhost:8080/"
    },
    "id": "e7bqiVvLqcKQ",
    "outputId": "ee78118f-83a6-4740-9867-82c746acbe43"
   },
   "outputs": [],
   "source": [
    "# picking the number of nodes for the graph\n",
    "n = int(input(\"Digite a quantidade de vertices do grafo...\"))\n",
    "# catching the colors in RGBA indice\n",
    "colors_amount = int(input(\"Coloque a quantidade de cores para coloração do grafo...\"))\n",
    "colors = plt.cm.turbo(np.linspace(0,1,colors_amount))\n",
    "# transforming the format of the colors"
   ]
  },
  {
   "cell_type": "code",
   "execution_count": 3,
   "metadata": {
    "id": "zXlbMhBx1aUn"
   },
   "outputs": [
    {
     "data": {
      "image/png": "[encoded data removed]",
      "text/plain": [
       "<Figure size 640x480 with 1 Axes>"
      ]
     },
     "metadata": {},
     "output_type": "display_data"
    }
   ],
   "source": [
    "# Criando e plotando o grafo aleatório\n",
    "graph = nx.gnp_random_graph(n, 0.3)\n",
    "nx.draw(graph)\n",
    "plt.show()"
   ]
  },
  {
   "cell_type": "code",
   "execution_count": 4,
   "metadata": {
    "colab": {
     "base_uri": "https://localhost:8080/"
    },
    "id": "rNtrUgOv7uwC",
    "outputId": "0e3a63dd-e961-40e7-8a95-e4ae3e516a6d"
   },
   "outputs": [
    {
     "ename": "KeyError",
     "evalue": "5",
     "output_type": "error",
     "traceback": [
      "\u001b[1;31m---------------------------------------------------------------------------\u001b[0m",
      "\u001b[1;31mKeyError\u001b[0m                                  Traceback (most recent call last)",
      "Cell \u001b[1;32mIn[4], line 2\u001b[0m\n\u001b[0;32m      1\u001b[0m \u001b[38;5;66;03m# Calling the algorithm to search for all clicks\u001b[39;00m\n\u001b[1;32m----> 2\u001b[0m module \u001b[38;5;241m=\u001b[39m \u001b[43mClicks\u001b[49m\u001b[43m(\u001b[49m\u001b[43mgraph\u001b[49m\u001b[43m)\u001b[49m\n\u001b[0;32m      3\u001b[0m \u001b[38;5;28mprint\u001b[39m(module\u001b[38;5;241m.\u001b[39mclicks)\n",
      "File \u001b[1;32mc:\\Users\\Rick\\OneDrive\\Área de Trabalho\\graph-coloring-algorithm\\algorithm.py:12\u001b[0m, in \u001b[0;36mClicks.__init__\u001b[1;34m(self, graph)\u001b[0m\n\u001b[0;32m     10\u001b[0m \u001b[38;5;28mself\u001b[39m\u001b[38;5;241m.\u001b[39mgraph \u001b[38;5;241m=\u001b[39m graph  \u001b[38;5;66;03m# is expected a nx object...\u001b[39;00m\n\u001b[0;32m     11\u001b[0m \u001b[38;5;28mself\u001b[39m\u001b[38;5;241m.\u001b[39madjacency_add(\u001b[38;5;28mself\u001b[39m\u001b[38;5;241m.\u001b[39mgraph)\n\u001b[1;32m---> 12\u001b[0m \u001b[38;5;28;43mself\u001b[39;49m\u001b[38;5;241;43m.\u001b[39;49m\u001b[43msize_2\u001b[49m\u001b[43m(\u001b[49m\u001b[38;5;28;43mself\u001b[39;49m\u001b[38;5;241;43m.\u001b[39;49m\u001b[43mgraph\u001b[49m\u001b[43m)\u001b[49m\n\u001b[0;32m     13\u001b[0m \u001b[38;5;28mself\u001b[39m\u001b[38;5;241m.\u001b[39msize_n(\u001b[38;5;28mself\u001b[39m\u001b[38;5;241m.\u001b[39mgraph)\n",
      "File \u001b[1;32mc:\\Users\\Rick\\OneDrive\\Área de Trabalho\\graph-coloring-algorithm\\algorithm.py:26\u001b[0m, in \u001b[0;36mClicks.size_2\u001b[1;34m(self, adjacency)\u001b[0m\n\u001b[0;32m     24\u001b[0m \u001b[38;5;28;01mwhile\u001b[39;00m node \u001b[38;5;241m<\u001b[39m \u001b[38;5;241m10\u001b[39m:  \u001b[38;5;66;03m# STEP 1 -> DEFINING PAIRS\u001b[39;00m\n\u001b[0;32m     25\u001b[0m     click \u001b[38;5;241m=\u001b[39m []\n\u001b[1;32m---> 26\u001b[0m     \u001b[38;5;28;01mfor\u001b[39;00m item \u001b[38;5;129;01min\u001b[39;00m \u001b[43madjacency\u001b[49m\u001b[43m[\u001b[49m\u001b[43mnode\u001b[49m\u001b[43m]\u001b[49m:\n\u001b[0;32m     27\u001b[0m         \u001b[38;5;28;01mif\u001b[39;00m [node, item] \u001b[38;5;129;01mnot\u001b[39;00m \u001b[38;5;129;01min\u001b[39;00m \u001b[38;5;28mself\u001b[39m\u001b[38;5;241m.\u001b[39mclicks:\n\u001b[0;32m     28\u001b[0m             \u001b[38;5;28;01mif\u001b[39;00m [item, node] \u001b[38;5;129;01mnot\u001b[39;00m \u001b[38;5;129;01min\u001b[39;00m \u001b[38;5;28mself\u001b[39m\u001b[38;5;241m.\u001b[39mclicks:\n",
      "File \u001b[1;32m~\\AppData\\Local\\Packages\\PythonSoftwareFoundation.Python.3.11_qbz5n2kfra8p0\\LocalCache\\local-packages\\Python311\\site-packages\\networkx\\classes\\graph.py:515\u001b[0m, in \u001b[0;36mGraph.__getitem__\u001b[1;34m(self, n)\u001b[0m\n\u001b[0;32m    491\u001b[0m \u001b[38;5;28;01mdef\u001b[39;00m \u001b[38;5;21m__getitem__\u001b[39m(\u001b[38;5;28mself\u001b[39m, n):\n\u001b[0;32m    492\u001b[0m \u001b[38;5;250m    \u001b[39m\u001b[38;5;124;03m\"\"\"Returns a dict of neighbors of node n.  Use: 'G[n]'.\u001b[39;00m\n\u001b[0;32m    493\u001b[0m \n\u001b[0;32m    494\u001b[0m \u001b[38;5;124;03m    Parameters\u001b[39;00m\n\u001b[1;32m   (...)\u001b[0m\n\u001b[0;32m    513\u001b[0m \u001b[38;5;124;03m    AtlasView({1: {}})\u001b[39;00m\n\u001b[0;32m    514\u001b[0m \u001b[38;5;124;03m    \"\"\"\u001b[39;00m\n\u001b[1;32m--> 515\u001b[0m     \u001b[38;5;28;01mreturn\u001b[39;00m \u001b[38;5;28;43mself\u001b[39;49m\u001b[38;5;241;43m.\u001b[39;49m\u001b[43madj\u001b[49m\u001b[43m[\u001b[49m\u001b[43mn\u001b[49m\u001b[43m]\u001b[49m\n",
      "File \u001b[1;32m~\\AppData\\Local\\Packages\\PythonSoftwareFoundation.Python.3.11_qbz5n2kfra8p0\\LocalCache\\local-packages\\Python311\\site-packages\\networkx\\classes\\coreviews.py:81\u001b[0m, in \u001b[0;36mAdjacencyView.__getitem__\u001b[1;34m(self, name)\u001b[0m\n\u001b[0;32m     80\u001b[0m \u001b[38;5;28;01mdef\u001b[39;00m \u001b[38;5;21m__getitem__\u001b[39m(\u001b[38;5;28mself\u001b[39m, name):\n\u001b[1;32m---> 81\u001b[0m     \u001b[38;5;28;01mreturn\u001b[39;00m AtlasView(\u001b[38;5;28;43mself\u001b[39;49m\u001b[38;5;241;43m.\u001b[39;49m\u001b[43m_atlas\u001b[49m\u001b[43m[\u001b[49m\u001b[43mname\u001b[49m\u001b[43m]\u001b[49m)\n",
      "\u001b[1;31mKeyError\u001b[0m: 5"
     ]
    }
   ],
   "source": [
    "# Calling the algorithm to search for all clicks\n",
    "module = Clicks(graph)\n",
    "print(module.clicks)"
   ]
  },
  {
   "cell_type": "markdown",
   "metadata": {
    "id": "ss0YH5ub25D2"
   },
   "source": [
    "### **Colorindo o grafo**"
   ]
  },
  {
   "cell_type": "code",
   "execution_count": null,
   "metadata": {},
   "outputs": [],
   "source": [
    "# Funcao para a atribuicao de cliques dentre o grafo...\n",
    "# verificar os adjacentes dentro dos nos e ver se a lista de adjacentes bate com as listas de adjacencia seguintes...\n",
    "# verificar se os cliques nao tem mais nos do que a quantidade de cores definidas... se sim, retonar que a coloração é impossivel...\n",
    "# estabelecer uma atribuição a lista total dos cliques...\n",
    "# fazer tudo isso atribuido dentro do arquivo clicks.py"
   ]
  },
  {
   "cell_type": "code",
   "execution_count": null,
   "metadata": {
    "id": "912BaOe341_h"
   },
   "outputs": [],
   "source": [
    "# Funcao para a adequação das cores possiveis dentro de um determinado nó\n",
    "# Ver os adjacentes e ir retirando as cores deles de dentro da lista de possiveis cores...\n",
    "# Partir sempre do no com mais adjacentes"
   ]
  },
  {
   "cell_type": "markdown",
   "metadata": {
    "id": "zW8qQP8F3vle"
   },
   "source": [
    "### **Explicação de lógica usada**"
   ]
  },
  {
   "cell_type": "markdown",
   "metadata": {
    "id": "dCeaFBhW35kY"
   },
   "source": [
    "**Partindo do conceito de estabelecer a coloração de um grafo aleatório por uma regra de formação de COR != do adjacente, foi desenvolvido o pensamento e estabelecida os seguintes ráciocinios.**\n",
    "\n",
    "**Primeiramente, sabendo do modelo de associação de cliques que pode ser definido como a busca por subgrafos fechados dentro de um esquema, podemos definir que, o maior clique encontrado definine a quantidade de cores necessarias para a coloração do grafo, já que, não haverá nível de complexidade maior que ele em função da quantidade de cores.**\n",
    "\n",
    "**Sendo assim, passando pela determinação de cliques dentro do grafo criado e descobrindo a quantidade de cores minimas necessarias para a coloração do material, foi definida uma função que distribui as possiveis cores no grafo, de forma a sempre suprir a regra estabelecida.**"
   ]
  }
 ],
 "metadata": {
  "colab": {
   "provenance": []
  },
  "kernelspec": {
   "display_name": "Python 3 (ipykernel)",
   "language": "python",
   "name": "python3"
  },
  "language_info": {
   "codemirror_mode": {
    "name": "ipython",
    "version": 3
   },
   "file_extension": ".py",
   "mimetype": "text/x-python",
   "name": "python",
   "nbconvert_exporter": "python",
   "pygments_lexer": "ipython3",
   "version": "3.11.4"
  }
 },
 "nbformat": 4,
 "nbformat_minor": 0
}
