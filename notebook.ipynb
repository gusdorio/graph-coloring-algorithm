{
 "nbformat": 4,
 "nbformat_minor": 0,
 "metadata": {
  "colab": {
   "provenance": []
  },
  "kernelspec": {
   "name": "python3",
   "language": "python",
   "display_name": "Python 3 (ipykernel)"
  },
  "language_info": {
   "name": "python"
  }
 },
 "cells": [
  {
   "cell_type": "markdown",
   "source": [
    "#### **Importando bibliotecas**"
   ],
   "metadata": {
    "id": "U3pn_6kT3fTO"
   }
  },
  {
   "cell_type": "code",
   "source": [
    "import networkx as nx\n",
    "import matplotlib.pyplot as plt\n",
    "from algorithm import Clicks"
   ],
   "metadata": {
    "id": "oRGjPacf3jIt"
   },
   "execution_count": null,
   "outputs": []
  },
  {
   "cell_type": "markdown",
   "source": [
    "### **Criando o grafo aleatório e a lista de cores**"
   ],
   "metadata": {
    "id": "o0cUP-ga18D9"
   }
  },
  {
   "cell_type": "code",
   "source": [
    "# Pegando o numero de vertices do grafo\n",
    "n = int(input(\"Digite a quantidade de vertices do grafo...\"))"
   ],
   "metadata": {
    "id": "e7bqiVvLqcKQ",
    "colab": {
     "base_uri": "https://localhost:8080/"
    },
    "outputId": "ee78118f-83a6-4740-9867-82c746acbe43"
   },
   "execution_count": null,
   "outputs": []
  },
  {
   "cell_type": "code",
   "execution_count": null,
   "metadata": {
    "id": "zXlbMhBx1aUn"
   },
   "outputs": [],
   "source": [
    "# Criando e plotando o grafo aleatório\n",
    "graph = nx.gnp_random_graph(n, 0.3)\n",
    "nx.draw(graph)\n",
    "plt.show()"
   ]
  },
  {
   "cell_type": "code",
   "source": [
    "# Calling the algorithm to search for all clicks\n",
    "module = Clicks(graph)\n",
    "print(module.clicks)"
   ],
   "metadata": {
    "colab": {
     "base_uri": "https://localhost:8080/"
    },
    "id": "rNtrUgOv7uwC",
    "outputId": "0e3a63dd-e961-40e7-8a95-e4ae3e516a6d"
   },
   "execution_count": null,
   "outputs": []
  },
  {
   "cell_type": "markdown",
   "source": [
    "### **Colorindo o grafo**"
   ],
   "metadata": {
    "id": "ss0YH5ub25D2"
   }
  },
  {
   "cell_type": "code",
   "source": [
    "# estabelecer uma atribuição a lista total dos cliques"
   ],
   "metadata": {
    "id": "912BaOe341_h"
   },
   "execution_count": null,
   "outputs": []
  },
  {
   "cell_type": "markdown",
   "source": [
    "### **Explicação de lógica usada**"
   ],
   "metadata": {
    "id": "zW8qQP8F3vle"
   }
  },
  {
   "cell_type": "markdown",
   "source": [
    "**Partindo do conceito de estabelecer a coloração de um grafo aleatório por uma regra de formação de COR != do adjacente, foi desenvolvido o pensamento e estabelecida os seguintes ráciocinios...**\n",
    "\n",
    "****\n",
    "*   ****\n",
    "*   ****\n",
    "****\n",
    "\n",
    "**Desta forma, com a preocupação de sempre descomplicar o cenário e a recomposição e assimilação das possibilidades de coloração para cada nó vigente, foi determinado o algoritmo para a atribuição de cores à quaisquer grafos apresentados.**"
   ],
   "metadata": {
    "id": "dCeaFBhW35kY"
   }
  }
 ]
}
