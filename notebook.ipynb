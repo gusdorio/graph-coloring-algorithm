{
 "cells": [
  {
   "cell_type": "markdown",
   "metadata": {},
   "source": [
    "## **NOMES E IDENTIFICAÇÃO**\n",
    "### **César Henrique Rodrigues de Campos**\n",
    "### **RA: 23021588**\n",
    "### **Gustavo Dório Dos Santos**\n",
    "### **RA: 23006995**"
   ]
  },
  {
   "cell_type": "markdown",
   "metadata": {
    "id": "U3pn_6kT3fTO"
   },
   "source": [
    "#### **Importando bibliotecas**"
   ]
  },
  {
   "cell_type": "code",
   "execution_count": 9,
   "metadata": {
    "id": "oRGjPacf3jIt"
   },
   "outputs": [],
   "source": [
    "import networkx as nx\n",
    "import matplotlib.pyplot as plt\n",
    "import numpy as np\n",
    "import random as rd\n",
    "from algorithm import Clicks"
   ]
  },
  {
   "cell_type": "markdown",
   "metadata": {
    "id": "o0cUP-ga18D9"
   },
   "source": [
    "### **Criando o grafo aleatório e a lista de cores**"
   ]
  },
  {
   "cell_type": "code",
   "execution_count": 10,
   "metadata": {},
   "outputs": [],
   "source": [
    "# picking the number of nodes for the graph\n",
    "n = int(input(\"Digite a quantidade de vertices do grafo...\"))\n",
    "# catching the colors in RGBA indice\n",
    "colors_amount = int(input(\"Coloque a quantidade de cores para coloração do grafo...\"))\n",
    "colors_define = plt.cm.turbo(np.linspace(0,1,colors_amount))"
   ]
  },
  {
   "cell_type": "code",
   "execution_count": 11,
   "metadata": {
    "id": "zXlbMhBx1aUn"
   },
   "outputs": [
    {
     "data": {
      "image/png": "[encoded data removed]",
      "text/plain": [
       "<Figure size 640x480 with 1 Axes>"
      ]
     },
     "metadata": {},
     "output_type": "display_data"
    }
   ],
   "source": [
    "# Criando e plotando o grafo aleatório\n",
    "graph = nx.gnp_random_graph(n, 0.3)\n",
    "nx.draw(graph)\n",
    "plt.show()"
   ]
  },
  {
   "cell_type": "markdown",
   "metadata": {
    "id": "ss0YH5ub25D2"
   },
   "source": [
    "### **Colorindo o grafo**"
   ]
  },
  {
   "cell_type": "code",
   "execution_count": 20,
   "metadata": {},
   "outputs": [],
   "source": [
    "# transforming rgba color in hexa color format\n",
    "def hexa_color(list_rgba):\n",
    "    hex = []\n",
    "    for item in list_rgba:\n",
    "        hex.append('#{0:02x}{1:02x}{2:02x}'.format(int(item[0]*255),int(item[1]*255),int(item[2]*255)).upper())\n",
    "    return hex "
   ]
  },
  {
   "cell_type": "code",
   "execution_count": 21,
   "metadata": {},
   "outputs": [],
   "source": [
    "# verifying if the graph has contidion to be colored\n",
    "def verifying_clicks_for_color(colors, module):\n",
    "    for click in module.clicks:\n",
    "        if len(click) > len(colors):\n",
    "            return 1\n",
    "    return 0\n",
    "    "
   ]
  },
  {
   "cell_type": "code",
   "execution_count": 22,
   "metadata": {},
   "outputs": [],
   "source": [
    "#function to color the graph\n",
    "def coloring_graph(graph, adjacency, list_hex):\n",
    "    #dicionario, no e cor em que ele vai ser colocado\n",
    "    colors = {}\n",
    "    #para cada no dentro do grafo\n",
    "    for node in graph.nodes():\n",
    "        #lista de cores disponiveis\n",
    "        avaliable_color = list_hex.copy()\n",
    "        #pegando a lista de adjacencia do no\n",
    "        node_adjacency = adjacency[node]\n",
    "        #para cara adjacente dentro da lista\n",
    "        for adjacent in node_adjacency:\n",
    "            #se adjacent esta em color\n",
    "            if adjacent in colors:\n",
    "                #lista de cores disponiveis remove a cor que esta colorindo o no adjacente\n",
    "                avaliable_color.remove(colors[adjacent]) \n",
    "        #atribuindo uma cor aleatoria ao dicionario de nos\n",
    "        colors[node] = avaliable_color[rd.randint(0, len(avaliable_color)-1)] #atribuindo a nova cor ao no destacado\n",
    "    pos = nx.spring_layout(graph)\n",
    "    nx.draw(graph, pos, with_labels=True, node_color=[colors[n] for n in graph.nodes()])\n",
    "    plt.show()\n",
    "    return colors"
   ]
  },
  {
   "cell_type": "code",
   "execution_count": 23,
   "metadata": {},
   "outputs": [],
   "source": [
    "module = Clicks(graph)\n",
    "list_color_hex = hexa_color(colors_define)"
   ]
  },
  {
   "cell_type": "code",
   "execution_count": 24,
   "metadata": {},
   "outputs": [
    {
     "data": {
      "image/png": "[encoded data removed]",
      "text/plain": [
       "<Figure size 640x480 with 1 Axes>"
      ]
     },
     "metadata": {},
     "output_type": "display_data"
    }
   ],
   "source": [
    "#main code\n",
    "module = Clicks(graph)\n",
    "list_color_hex = hexa_color(colors_define)\n",
    "if verifying_clicks_for_color(list_color_hex, module) == 1:\n",
    "    print(\"O grafo nao pode ser colorido com o montante de cores atribuido\")\n",
    "else:\n",
    "    hash_color = coloring_graph(graph, module.adjacency, list_color_hex)"
   ]
  },
  {
   "cell_type": "code",
   "execution_count": 28,
   "metadata": {},
   "outputs": [
    {
     "name": "stdout",
     "output_type": "stream",
     "text": [
      "Clicks: [[0, 1], [1, 3], [0, 3]]\n",
      "Adjacency: {0: [3], 1: [], 2: [], 3: [0]}\n",
      "Assimilacao das cores: {0: '#30123B', 1: '#E1DC37', 2: '#30123B', 3: '#EF5A11'}\n"
     ]
    }
   ],
   "source": [
    "# Clicks do grafo\n",
    "print(f'Clicks: {module.clicks}')\n",
    "#adjacencia do grafo\n",
    "print(f'Adjacency: {module.adjacency}')\n",
    "#hash de assimilacao das cores\n",
    "print(f'Assimilacao das cores: {hash_color}')"
   ]
  },
  {
   "cell_type": "markdown",
   "metadata": {
    "id": "zW8qQP8F3vle"
   },
   "source": [
    "### **Explicação de lógica usada**"
   ]
  },
  {
   "cell_type": "markdown",
   "metadata": {
    "id": "dCeaFBhW35kY"
   },
   "source": [
    "**Partindo do conceito de estabelecer a coloração de um grafo aleatório por uma regra de formação de COR != do adjacente, foi desenvolvido o pensamento e estabelecida os seguintes ráciocinios.**\n",
    "\n",
    "**Primeiramente, sabendo do modelo de associação de cliques que pode ser definido como a busca por subgrafos fechados dentro de um esquema, podemos definir que, o maior clique encontrado definine a quantidade de cores necessarias para a coloração do grafo, já que, não haverá nível de complexidade maior que ele em função da quantidade de cores.**\n",
    "\n",
    "**Sendo assim, passando pela determinação de cliques dentro do grafo criado e descobrindo a quantidade de cores minimas necessarias para a coloração do material, foi definida uma função que distribui as possiveis cores no grafo, de forma a sempre suprir a regra estabelecida.**"
   ]
  }
 ],
 "metadata": {
  "colab": {
   "provenance": []
  },
  "kernelspec": {
   "display_name": "Python 3 (ipykernel)",
   "language": "python",
   "name": "python3"
  },
  "language_info": {
   "codemirror_mode": {
    "name": "ipython",
    "version": 3
   },
   "file_extension": ".py",
   "mimetype": "text/x-python",
   "name": "python",
   "nbconvert_exporter": "python",
   "pygments_lexer": "ipython3",
   "version": "3.11.4"
  }
 },
 "nbformat": 4,
 "nbformat_minor": 0
}
