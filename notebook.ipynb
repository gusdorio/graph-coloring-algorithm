{
 "nbformat": 4,
 "nbformat_minor": 0,
 "metadata": {
  "colab": {
   "provenance": []
  },
  "kernelspec": {
   "name": "python3",
   "language": "python",
   "display_name": "Python 3 (ipykernel)"
  },
  "language_info": {
   "name": "python"
  }
 },
 "cells": [
  {
   "cell_type": "markdown",
   "source": [
    "#### **Importando bibliotecas**"
   ],
   "metadata": {
    "id": "U3pn_6kT3fTO"
   }
  },
  {
   "cell_type": "code",
   "source": [
    "import networkx as nx\n",
    "import matplotlib.pyplot as plt\n",
    "import algorithm"
   ],
   "metadata": {
    "id": "oRGjPacf3jIt",
    "ExecuteTime": {
     "end_time": "2024-03-28T00:21:50.491182Z",
     "start_time": "2024-03-28T00:21:50.482181Z"
    }
   },
   "execution_count": 10,
   "outputs": []
  },
  {
   "cell_type": "markdown",
   "source": [
    "### **Criando o grafo aleatório e a lista de cores**"
   ],
   "metadata": {
    "id": "o0cUP-ga18D9"
   }
  },
  {
   "cell_type": "code",
   "source": [
    "# Pegando o numero de vertices do grafo\n",
    "n = int(input(\"Digite a quantidade de vertices do grafo...\"))"
   ],
   "metadata": {
    "id": "e7bqiVvLqcKQ",
    "colab": {
     "base_uri": "https://localhost:8080/"
    },
    "outputId": "ee78118f-83a6-4740-9867-82c746acbe43",
    "ExecuteTime": {
     "end_time": "2024-03-28T00:21:52.037027Z",
     "start_time": "2024-03-28T00:21:50.511700Z"
    }
   },
   "execution_count": 11,
   "outputs": []
  },
  {
   "cell_type": "code",
   "execution_count": 12,
   "metadata": {
    "id": "zXlbMhBx1aUn",
    "ExecuteTime": {
     "end_time": "2024-03-28T00:21:52.130581Z",
     "start_time": "2024-03-28T00:21:52.038953Z"
    }
   },
   "outputs": [
    {
     "data": {
      "text/plain": "<Figure size 640x480 with 1 Axes>",
      "image/png": "[encoded data removed]"
     },
     "metadata": {},
     "output_type": "display_data"
    }
   ],
   "source": [
    "# Criando e plotando o grafo aleatório\n",
    "graph = nx.gnp_random_graph(n, 0.3)\n",
    "nx.draw(graph)\n",
    "plt.show()"
   ]
  },
  {
   "cell_type": "code",
   "source": [
    "dic = algorithm.adjacency(graph)\n",
    "print(dic)\n",
    "print(dic[1])"
   ],
   "metadata": {
    "colab": {
     "base_uri": "https://localhost:8080/"
    },
    "id": "nnlTQ22HAey9",
    "outputId": "9ed8d824-b619-4b43-97b3-cde04ec65086",
    "ExecuteTime": {
     "end_time": "2024-03-28T00:21:52.146007Z",
     "start_time": "2024-03-28T00:21:52.131487Z"
    }
   },
   "execution_count": 13,
   "outputs": [
    {
     "name": "stdout",
     "output_type": "stream",
     "text": [
      "{0: [2, 3], 1: [], 2: [0], 3: [0, 4], 4: [3]}\n",
      "[]\n"
     ]
    }
   ]
  },
  {
   "cell_type": "code",
   "source": [
    "# Estabelecendo a lista de cores possíveis"
   ],
   "metadata": {
    "id": "JJyqjDQoeytF",
    "ExecuteTime": {
     "end_time": "2024-03-28T00:21:52.161520Z",
     "start_time": "2024-03-28T00:21:52.148007Z"
    }
   },
   "execution_count": 14,
   "outputs": []
  },
  {
   "cell_type": "code",
   "source": [
    "# algorithm.clicks(graph)"
   ],
   "metadata": {
    "colab": {
     "base_uri": "https://localhost:8080/"
    },
    "id": "rNtrUgOv7uwC",
    "outputId": "0e3a63dd-e961-40e7-8a95-e4ae3e516a6d",
    "ExecuteTime": {
     "end_time": "2024-03-28T00:21:52.177034Z",
     "start_time": "2024-03-28T00:21:52.162522Z"
    }
   },
   "execution_count": 15,
   "outputs": []
  },
  {
   "cell_type": "markdown",
   "source": [
    "### **Colorindo o grafo**"
   ],
   "metadata": {
    "id": "ss0YH5ub25D2"
   }
  },
  {
   "cell_type": "code",
   "source": [
    "# Funcao para a atribuicao de cliques dentre o grafo\n",
    "# verificar os adjacentes dentro dos nos e ver se a lista de adjacentes\n",
    "# estabelecer uma atribuição a lista total dos cliques"
   ],
   "metadata": {
    "id": "912BaOe341_h",
    "ExecuteTime": {
     "end_time": "2024-03-28T00:21:52.193091Z",
     "start_time": "2024-03-28T00:21:52.178036Z"
    }
   },
   "execution_count": 16,
   "outputs": []
  },
  {
   "cell_type": "code",
   "source": [
    "# Funcao para verificação das cores dos adjacentes"
   ],
   "metadata": {
    "id": "lDgUnY0O5eHf",
    "ExecuteTime": {
     "end_time": "2024-03-28T00:21:52.208547Z",
     "start_time": "2024-03-28T00:21:52.194035Z"
    }
   },
   "execution_count": 17,
   "outputs": []
  },
  {
   "cell_type": "markdown",
   "source": [
    "### **Explicação de lógica usada**"
   ],
   "metadata": {
    "id": "zW8qQP8F3vle"
   }
  },
  {
   "cell_type": "markdown",
   "source": [
    "**Partindo do conceito de estabelecer a coloração de um grafo aleatório por uma regra de formação de COR != do adjacente, foi desenvolvido o pensamento e estabelecida os seguintes ráciocinios...**\n",
    "\n",
    "****\n",
    "*   ****\n",
    "*   ****\n",
    "****\n",
    "\n",
    "**Desta forma, com a preocupação de sempre descomplicar o cenário e a recomposição e assimilação das possibilidades de coloração para cada nó vigente, foi determinado o algoritmo para a atribuição de cores à quaisquer grafos apresentados.**"
   ],
   "metadata": {
    "id": "dCeaFBhW35kY"
   }
  }
 ]
}
